{
  "nbformat": 4,
  "nbformat_minor": 0,
  "metadata": {
    "colab": {
      "name": "ibm_marks_nptel.ipynb",
      "provenance": [],
      "authorship_tag": "ABX9TyNRydIPXhw4mkLu7XkempxU",
      "include_colab_link": true
    },
    "kernelspec": {
      "name": "python3",
      "display_name": "Python 3"
    },
    "language_info": {
      "name": "python"
    }
  },
  "cells": [
    {
      "cell_type": "markdown",
      "metadata": {
        "id": "view-in-github",
        "colab_type": "text"
      },
      "source": [
        "<a href=\"https://colab.research.google.com/github/ayush-kumar-rai/ayush-kumar-rai/blob/main/ibm_marks_nptel.ipynb\" target=\"_parent\"><img src=\"https://colab.research.google.com/assets/colab-badge.svg\" alt=\"Open In Colab\"/></a>"
      ]
    },
    {
      "cell_type": "code",
      "execution_count": null,
      "metadata": {
        "id": "4fJXvVr-qco6"
      },
      "outputs": [],
      "source": [
        "import pandas as pd\n",
        "import numpy as np"
      ]
    },
    {
      "cell_type": "code",
      "source": [
        "path = \"/content/IBM-313 Marks.xlsx\"\n",
        "table = pd.read_excel(path)\n",
        "print(table)"
      ],
      "metadata": {
        "colab": {
          "base_uri": "https://localhost:8080/"
        },
        "id": "Y67B68nAqyjL",
        "outputId": "1f4f07c3-108c-45ce-f356-c8a9131e9578"
      },
      "execution_count": null,
      "outputs": [
        {
          "output_type": "stream",
          "name": "stdout",
          "text": [
            "    S.No.  MTE (25)  Mini Project (25)  Total (50)  ETE (50)  Total\n",
            "0       1      5.00                 20       25.00      12.0  37.00\n",
            "1       2     11.05                 20       31.05      26.0  57.05\n",
            "2       3      8.10                 20       28.10      14.0  42.10\n",
            "3       4      6.00                 10       16.00      13.0  29.00\n",
            "4       5     11.35                 20       31.35      17.0  48.35\n",
            "..    ...       ...                ...         ...       ...    ...\n",
            "74     75     12.05                 10       22.05      20.0  42.05\n",
            "75     76     12.25                 10       22.25      28.0  50.25\n",
            "76     77      1.75                 10       11.75       NaN   0.00\n",
            "77     78      3.00                 10       13.00       NaN   0.00\n",
            "78     79      5.80                 10       15.80      12.0  27.80\n",
            "\n",
            "[79 rows x 6 columns]\n"
          ]
        }
      ]
    },
    {
      "cell_type": "markdown",
      "source": [
        "mean finding"
      ],
      "metadata": {
        "id": "YHvochqCu0Zo"
      }
    },
    {
      "cell_type": "code",
      "source": [
        "x= table['Total']\n",
        "np.mean(x)"
      ],
      "metadata": {
        "colab": {
          "base_uri": "https://localhost:8080/"
        },
        "id": "ciuT_7KSuEE1",
        "outputId": "5a391a37-3c6c-4d47-a3d8-0c6fcb154398"
      },
      "execution_count": null,
      "outputs": [
        {
          "output_type": "execute_result",
          "data": {
            "text/plain": [
              "46.90632911392405"
            ]
          },
          "metadata": {},
          "execution_count": 8
        }
      ]
    },
    {
      "cell_type": "markdown",
      "source": [
        "median finding"
      ],
      "metadata": {
        "id": "uWEWISwXu-x_"
      }
    },
    {
      "cell_type": "code",
      "source": [
        "np.median(x)"
      ],
      "metadata": {
        "colab": {
          "base_uri": "https://localhost:8080/"
        },
        "id": "p1NWCKYNu5Iq",
        "outputId": "96a64674-55e6-4711-af42-37f57d37bea3"
      },
      "execution_count": null,
      "outputs": [
        {
          "output_type": "execute_result",
          "data": {
            "text/plain": [
              "45.0"
            ]
          },
          "metadata": {},
          "execution_count": 9
        }
      ]
    },
    {
      "cell_type": "markdown",
      "source": [
        "finding mode"
      ],
      "metadata": {
        "id": "xpKtTOTPwDZe"
      }
    },
    {
      "cell_type": "code",
      "source": [
        "import scipy\n",
        "from scipy import stats\n",
        "stats.mode(x)"
      ],
      "metadata": {
        "colab": {
          "base_uri": "https://localhost:8080/"
        },
        "id": "WRsWNxPtvHlE",
        "outputId": "f9221b9e-71fe-4a2a-c259-8733793da0cf"
      },
      "execution_count": null,
      "outputs": [
        {
          "output_type": "execute_result",
          "data": {
            "text/plain": [
              "ModeResult(mode=array([0.]), count=array([2]))"
            ]
          },
          "metadata": {},
          "execution_count": 11
        }
      ]
    },
    {
      "cell_type": "markdown",
      "source": [
        "percentile finding"
      ],
      "metadata": {
        "id": "XCnn2AX24Qfa"
      }
    },
    {
      "cell_type": "code",
      "source": [
        "a = np.array([1,2,3,4,5])\n",
        "p = np.percentile(a,50)\n",
        "print(p)"
      ],
      "metadata": {
        "colab": {
          "base_uri": "https://localhost:8080/"
        },
        "id": "sP2SGkEH4TyF",
        "outputId": "7c6c3505-a6a8-447a-8ebc-62f68b873881"
      },
      "execution_count": null,
      "outputs": [
        {
          "output_type": "stream",
          "name": "stdout",
          "text": [
            "3.0\n"
          ]
        }
      ]
    },
    {
      "cell_type": "markdown",
      "source": [
        "example of for loop"
      ],
      "metadata": {
        "id": "J41RL11L4mY2"
      }
    },
    {
      "cell_type": "code",
      "source": [
        "k = ['ram',65,2.5,4]\n",
        "k"
      ],
      "metadata": {
        "colab": {
          "base_uri": "https://localhost:8080/"
        },
        "id": "M9s_8v9k4Oed",
        "outputId": "42073e91-86aa-4fd6-99e9-009348e51214"
      },
      "execution_count": null,
      "outputs": [
        {
          "output_type": "execute_result",
          "data": {
            "text/plain": [
              "['ram', 65, 2.5, 4]"
            ]
          },
          "metadata": {},
          "execution_count": 17
        }
      ]
    },
    {
      "cell_type": "code",
      "source": [
        "for i in k:\n",
        "  print(i)"
      ],
      "metadata": {
        "colab": {
          "base_uri": "https://localhost:8080/"
        },
        "id": "KHpMg1sM5XrD",
        "outputId": "dd724de9-b3c5-48cd-b1e4-844a9127e727"
      },
      "execution_count": null,
      "outputs": [
        {
          "output_type": "stream",
          "name": "stdout",
          "text": [
            "ram\n",
            "65\n",
            "2.5\n",
            "4\n"
          ]
        }
      ]
    },
    {
      "cell_type": "markdown",
      "source": [
        "assigning/getting range "
      ],
      "metadata": {
        "id": "FDa6Tl4A6fqj"
      }
    },
    {
      "cell_type": "code",
      "source": [
        "for i in range(10,20,2):print(i)"
      ],
      "metadata": {
        "colab": {
          "base_uri": "https://localhost:8080/"
        },
        "id": "rb1PwKPj6kTq",
        "outputId": "7203674a-c203-4989-d997-fbba861c74cd"
      },
      "execution_count": null,
      "outputs": [
        {
          "output_type": "stream",
          "name": "stdout",
          "text": [
            "10\n",
            "12\n",
            "14\n",
            "16\n",
            "18\n"
          ]
        }
      ]
    },
    {
      "cell_type": "code",
      "source": [
        "for i in range(10,20,2):print(i,end=',')\n"
      ],
      "metadata": {
        "colab": {
          "base_uri": "https://localhost:8080/"
        },
        "id": "Tu3oaRy75u-c",
        "outputId": "45d368a7-bfec-4c42-d619-538ac6a41d9a"
      },
      "execution_count": null,
      "outputs": [
        {
          "output_type": "stream",
          "name": "stdout",
          "text": [
            "10,12,14,16,18,"
          ]
        }
      ]
    },
    {
      "cell_type": "markdown",
      "source": [
        "user define function "
      ],
      "metadata": {
        "id": "6BwbRxUM7yQ9"
      }
    },
    {
      "cell_type": "code",
      "source": [
        "def welcome():\n",
        "  print(\"hello\")\n",
        "  print(\"welcome to explore you limits\")\n",
        "welcome()\n",
        "   "
      ],
      "metadata": {
        "colab": {
          "base_uri": "https://localhost:8080/"
        },
        "id": "Ej_cCAX671OE",
        "outputId": "14db1715-8b3a-4ca6-9ced-e0754e9e6701"
      },
      "execution_count": null,
      "outputs": [
        {
          "output_type": "stream",
          "name": "stdout",
          "text": [
            "hello\n",
            "welcome to explore you limits\n"
          ]
        }
      ]
    },
    {
      "cell_type": "code",
      "source": [
        "def add(a,b):\n",
        "  c=a+b\n",
        "  print(c)\n",
        "add(10,25)"
      ],
      "metadata": {
        "colab": {
          "base_uri": "https://localhost:8080/"
        },
        "id": "mPFXKUba7xfZ",
        "outputId": "d3d8619b-9cb8-421d-fbe5-63968a2ad4aa"
      },
      "execution_count": null,
      "outputs": [
        {
          "output_type": "stream",
          "name": "stdout",
          "text": [
            "35\n"
          ]
        }
      ]
    },
    {
      "cell_type": "code",
      "source": [
        "data=[1,2,3,4,5,51,101,108,111]\n",
        "min(data), max(data)"
      ],
      "metadata": {
        "colab": {
          "base_uri": "https://localhost:8080/"
        },
        "id": "BayEa1Pv9OJq",
        "outputId": "6fb6132d-e270-4e14-c62d-3a7b0f6dc998"
      },
      "execution_count": null,
      "outputs": [
        {
          "output_type": "execute_result",
          "data": {
            "text/plain": [
              "(1, 111)"
            ]
          },
          "metadata": {},
          "execution_count": 25
        }
      ]
    },
    {
      "cell_type": "code",
      "source": [
        "def min_max(data):\n",
        "  min_val= min(data)\n",
        "  max_val= max(data)\n",
        "\n",
        "  return (min_val, max_val)"
      ],
      "metadata": {
        "id": "8_79a4ne9tEY"
      },
      "execution_count": null,
      "outputs": []
    },
    {
      "cell_type": "code",
      "source": [
        "min_max(data)"
      ],
      "metadata": {
        "colab": {
          "base_uri": "https://localhost:8080/"
        },
        "id": "EqLc5dOd-ns0",
        "outputId": "e8088d24-2764-4d58-811c-57005abf219b"
      },
      "execution_count": null,
      "outputs": [
        {
          "output_type": "execute_result",
          "data": {
            "text/plain": [
              "(1, 111)"
            ]
          },
          "metadata": {},
          "execution_count": 27
        }
      ]
    },
    {
      "cell_type": "code",
      "source": [
        "def rangef(data):\n",
        "  min_val= min(data)\n",
        "  max_val= max(data)\n",
        "  return (max_val- min_val)"
      ],
      "metadata": {
        "id": "yfQZtvhY_cwg"
      },
      "execution_count": null,
      "outputs": []
    },
    {
      "cell_type": "code",
      "source": [
        "rangef(data)"
      ],
      "metadata": {
        "colab": {
          "base_uri": "https://localhost:8080/"
        },
        "id": "EAWS_ZBq_wrN",
        "outputId": "25d99cae-4137-4b43-9304-b816497d2e92"
      },
      "execution_count": null,
      "outputs": [
        {
          "output_type": "execute_result",
          "data": {
            "text/plain": [
              "110"
            ]
          },
          "metadata": {},
          "execution_count": 30
        }
      ]
    },
    {
      "cell_type": "markdown",
      "source": [
        "finding quartile"
      ],
      "metadata": {
        "id": "iaOxCKRLAkeO"
      }
    },
    {
      "cell_type": "code",
      "source": [
        "a=np.array([1,2,3,4,5])\n",
        "q1= np.percentile(a,25)\n",
        "print(q1)\n",
        "q2= np.percentile(a,50)\n",
        "print(q2)\n",
        "q3=np.percentile(a,75)\n",
        "print(q3)"
      ],
      "metadata": {
        "colab": {
          "base_uri": "https://localhost:8080/"
        },
        "id": "--Rr67PKAm0x",
        "outputId": "6e1ea615-b802-4a6e-ea87-7e45e298feaa"
      },
      "execution_count": null,
      "outputs": [
        {
          "output_type": "stream",
          "name": "stdout",
          "text": [
            "2.0\n",
            "3.0\n",
            "4.0\n"
          ]
        }
      ]
    },
    {
      "cell_type": "markdown",
      "source": [
        "inter quartile range"
      ],
      "metadata": {
        "id": "OUdOwBDKBzKQ"
      }
    },
    {
      "cell_type": "code",
      "source": [
        "IQ= q3-q1\n",
        "IQ"
      ],
      "metadata": {
        "colab": {
          "base_uri": "https://localhost:8080/"
        },
        "id": "RkXTzHakB2so",
        "outputId": "f07ae50d-b986-4fec-d196-6f375c53502c"
      },
      "execution_count": null,
      "outputs": [
        {
          "output_type": "execute_result",
          "data": {
            "text/plain": [
              "2.0"
            ]
          },
          "metadata": {},
          "execution_count": 32
        }
      ]
    },
    {
      "cell_type": "code",
      "source": [
        "np.var(x)"
      ],
      "metadata": {
        "colab": {
          "base_uri": "https://localhost:8080/"
        },
        "id": "GbEYI6XgB_kn",
        "outputId": "3871fb9f-09b3-4397-ed94-0f343b076f3a"
      },
      "execution_count": null,
      "outputs": [
        {
          "output_type": "execute_result",
          "data": {
            "text/plain": [
              "262.78147892965876"
            ]
          },
          "metadata": {},
          "execution_count": 33
        }
      ]
    },
    {
      "cell_type": "markdown",
      "source": [
        "population standard deviation"
      ],
      "metadata": {
        "id": "6Oo3jwP1Cktm"
      }
    },
    {
      "cell_type": "code",
      "source": [
        "import statistics\n",
        "statistics.pstdev(x)"
      ],
      "metadata": {
        "colab": {
          "base_uri": "https://localhost:8080/"
        },
        "id": "atV_QLAAAjl3",
        "outputId": "8f1eee02-0711-4d67-f3df-9822b176baaa"
      },
      "execution_count": null,
      "outputs": [
        {
          "output_type": "execute_result",
          "data": {
            "text/plain": [
              "16.210536046955966"
            ]
          },
          "metadata": {},
          "execution_count": 34
        }
      ]
    },
    {
      "cell_type": "markdown",
      "source": [
        "sample standard deviation"
      ],
      "metadata": {
        "id": "hbdBZrD4Czys"
      }
    },
    {
      "cell_type": "code",
      "source": [
        "statistics.stdev(x)"
      ],
      "metadata": {
        "colab": {
          "base_uri": "https://localhost:8080/"
        },
        "id": "h8mFRdJwCvYo",
        "outputId": "ede57cc0-bba7-466c-8e7c-3afd5e417997"
      },
      "execution_count": null,
      "outputs": [
        {
          "output_type": "execute_result",
          "data": {
            "text/plain": [
              "16.31411880088133"
            ]
          },
          "metadata": {},
          "execution_count": 35
        }
      ]
    },
    {
      "cell_type": "markdown",
      "source": [
        "standard deviation"
      ],
      "metadata": {
        "id": "Mm3NS3F0C8ao"
      }
    },
    {
      "cell_type": "code",
      "source": [
        "np.std(x)"
      ],
      "metadata": {
        "colab": {
          "base_uri": "https://localhost:8080/"
        },
        "id": "R_RhtXIJC7Pq",
        "outputId": "4a3b3950-7d10-4fb2-cb68-97ee62e8d7c2"
      },
      "execution_count": null,
      "outputs": [
        {
          "output_type": "execute_result",
          "data": {
            "text/plain": [
              "16.210536046955966"
            ]
          },
          "metadata": {},
          "execution_count": 36
        }
      ]
    },
    {
      "cell_type": "markdown",
      "source": [
        "skewness"
      ],
      "metadata": {
        "id": "_8dZH8f6DCGZ"
      }
    },
    {
      "cell_type": "code",
      "source": [
        "from scipy.stats import skew\n",
        "skew(x)"
      ],
      "metadata": {
        "colab": {
          "base_uri": "https://localhost:8080/"
        },
        "id": "v38MIgtODfda",
        "outputId": "6585d43c-5ceb-49b6-b03b-4a34ea5a20ec"
      },
      "execution_count": null,
      "outputs": [
        {
          "output_type": "execute_result",
          "data": {
            "text/plain": [
              "0.10226407464884266"
            ]
          },
          "metadata": {},
          "execution_count": 38
        }
      ]
    },
    {
      "cell_type": "markdown",
      "source": [
        "box plot"
      ],
      "metadata": {
        "id": "o9TkIB_EDsZc"
      }
    },
    {
      "cell_type": "code",
      "source": [
        "from matplotlib import pyplot as plt\n",
        "plt.boxplot(x,sym='*')\n",
        "plt.show()"
      ],
      "metadata": {
        "colab": {
          "base_uri": "https://localhost:8080/",
          "height": 265
        },
        "id": "TCFpn-dJDt9v",
        "outputId": "a9eeb9e6-a91a-49b2-85cc-af5dfef9b3b0"
      },
      "execution_count": null,
      "outputs": [
        {
          "output_type": "display_data",
          "data": {
            "text/plain": [
              "<Figure size 432x288 with 1 Axes>"
            ],
            "image/png": "[encoded data removed]"
          },
          "metadata": {
            "needs_background": "light"
          }
        }
      ]
    },
    {
      "cell_type": "code",
      "source": [
        ""
      ],
      "metadata": {
        "id": "lss-60Z_DBe2"
      },
      "execution_count": null,
      "outputs": []
    }
  ]
}