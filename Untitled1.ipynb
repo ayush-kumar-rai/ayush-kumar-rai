{
  "nbformat": 4,
  "nbformat_minor": 0,
  "metadata": {
    "colab": {
      "name": "Untitled1.ipynb",
      "provenance": [],
      "authorship_tag": "ABX9TyPfpikKroZzAjJDNfk8j3oP",
      "include_colab_link": true
    },
    "kernelspec": {
      "name": "python3",
      "display_name": "Python 3"
    },
    "language_info": {
      "name": "python"
    }
  },
  "cells": [
    {
      "cell_type": "markdown",
      "metadata": {
        "id": "view-in-github",
        "colab_type": "text"
      },
      "source": [
        "<a href=\"https://colab.research.google.com/github/ayush-kumar-rai/ayush-kumar-rai/blob/main/Untitled1.ipynb\" target=\"_parent\"><img src=\"https://colab.research.google.com/assets/colab-badge.svg\" alt=\"Open In Colab\"/></a>"
      ]
    },
    {
      "cell_type": "code",
      "execution_count": null,
      "metadata": {
        "id": "4tOOVLk7POCa"
      },
      "outputs": [],
      "source": [
        "import scipy\n",
        "import numpy as np"
      ]
    },
    {
      "cell_type": "code",
      "source": [
        "from scipy.stats import binom\n"
      ],
      "metadata": {
        "id": "8kZa58wSQuCx"
      },
      "execution_count": null,
      "outputs": []
    },
    {
      "cell_type": "code",
      "source": [
        "a survey found that65% of all financial consumers were verysatisfied with their primary financial institution.Suppose that 25 financial consumers are sampled and if the survey result still hold the true today, what is the probability that exactly 90 are very satisfied with their primary finance institutions?"
      ],
      "metadata": {
        "colab": {
          "base_uri": "https://localhost:8080/"
        },
        "id": "y3HHtJ2JQwSu",
        "outputId": "e74b1983-ee90-4e42-87b4-d114aefc3bf0"
      },
      "execution_count": null,
      "outputs": [
        {
          "output_type": "stream",
          "name": "stdout",
          "text": [
            "Object `institutions` not found.\n"
          ]
        }
      ]
    },
    {
      "cell_type": "code",
      "source": [
        "print (binom.pmf(k=19, n=25, p=0.65) )  "
      ],
      "metadata": {
        "colab": {
          "base_uri": "https://localhost:8080/"
        },
        "id": "pcUjqjqcRtcc",
        "outputId": "39160fda-2afc-415f-d8a0-b9c2e35036d6"
      },
      "execution_count": null,
      "outputs": [
        {
          "output_type": "stream",
          "name": "stdout",
          "text": [
            "0.09077799859322791\n"
          ]
        }
      ]
    },
    {
      "cell_type": "markdown",
      "source": [
        "according to US Census Bureau approximately 6 percentage of all workers in Jackson Mississippie are unemployed in conducting a random telephone survey in Jackson, what is the probability of getting 2 or fewer unemployed workers in a sample of 20 ?"
      ],
      "metadata": {
        "id": "nswKNfHTTqF2"
      }
    },
    {
      "cell_type": "code",
      "source": [
        "binom.cdf(2,20,0.06)"
      ],
      "metadata": {
        "colab": {
          "base_uri": "https://localhost:8080/"
        },
        "id": "YRTF0rD9TVLl",
        "outputId": "00102fdb-b3c2-4143-c9f7-3acc6cb749ef"
      },
      "execution_count": null,
      "outputs": [
        {
          "output_type": "execute_result",
          "data": {
            "text/plain": [
              "0.8850275957378545"
            ]
          },
          "metadata": {},
          "execution_count": 35
        }
      ]
    },
    {
      "cell_type": "markdown",
      "source": [
        "solve the binomial probability for n = 20, p=40 & x= 10"
      ],
      "metadata": {
        "id": "5UwpMzUsT5eh"
      }
    },
    {
      "cell_type": "code",
      "source": [
        "binom.pmf(n=20, p=0.4, k=10)"
      ],
      "metadata": {
        "colab": {
          "base_uri": "https://localhost:8080/"
        },
        "id": "ujigJLFsTiGP",
        "outputId": "803d2823-421d-4eb1-a528-13a7e261398b"
      },
      "execution_count": null,
      "outputs": [
        {
          "output_type": "execute_result",
          "data": {
            "text/plain": [
              "0.11714155053639011"
            ]
          },
          "metadata": {},
          "execution_count": 36
        }
      ]
    },
    {
      "cell_type": "markdown",
      "source": [
        "poissons distribution"
      ],
      "metadata": {
        "id": "R2N19BL0VEi_"
      }
    },
    {
      "cell_type": "code",
      "source": [
        "from scipy.stats import poisson"
      ],
      "metadata": {
        "id": "1ypa9KZOVJy1"
      },
      "execution_count": null,
      "outputs": []
    },
    {
      "cell_type": "code",
      "source": [
        "poisson.pmf(3,2) #x=3 mean =2"
      ],
      "metadata": {
        "colab": {
          "base_uri": "https://localhost:8080/"
        },
        "id": "WBT1_4lFVUAk",
        "outputId": "66c7a0e5-63b9-446c-93f2-195cd7ea6ff9"
      },
      "execution_count": null,
      "outputs": [
        {
          "output_type": "execute_result",
          "data": {
            "text/plain": [
              "0.18044704431548356"
            ]
          },
          "metadata": {},
          "execution_count": 38
        }
      ]
    },
    {
      "cell_type": "markdown",
      "source": [
        "suppose bank customers arrives randomly on any weekdayafternoon at an average of 3.2 customers every 4 minutes, what is the probability of exactly 5 customers arriving in a 4 minute interval on a weekday afternoon"
      ],
      "metadata": {
        "id": "G7DaIrulVvqx"
      }
    },
    {
      "cell_type": "code",
      "source": [
        "poisson.pmf(5,3.2)"
      ],
      "metadata": {
        "colab": {
          "base_uri": "https://localhost:8080/"
        },
        "id": "PL2C2-UWV-ou",
        "outputId": "320e5491-4626-496a-d9cd-7a76421fec42"
      },
      "execution_count": null,
      "outputs": [
        {
          "output_type": "execute_result",
          "data": {
            "text/plain": [
              "0.11397938346351824"
            ]
          },
          "metadata": {},
          "execution_count": 39
        }
      ]
    },
    {
      "cell_type": "markdown",
      "source": [
        " bank customers arrive randomly on weekday afternoon at anaverage of 3.2 customers every 4 minutes what is the probability of having more than 7 customersin you 4 minute interval on a week day afternoon"
      ],
      "metadata": {
        "id": "QqFJojp0WjiT"
      }
    },
    {
      "cell_type": "code",
      "source": [
        "prob=poisson.cdf(7,3.2)"
      ],
      "metadata": {
        "id": "M85BQS2OWkGO"
      },
      "execution_count": null,
      "outputs": []
    },
    {
      "cell_type": "code",
      "source": [
        "prob_more_than_7= 1-prob\n",
        "prob_more_than_7"
      ],
      "metadata": {
        "colab": {
          "base_uri": "https://localhost:8080/"
        },
        "id": "vH_1eBFvXdHR",
        "outputId": "ceea6b50-e074-4a70-dd17-3dff05fb3abe"
      },
      "execution_count": null,
      "outputs": [
        {
          "output_type": "execute_result",
          "data": {
            "text/plain": [
              "0.01682984174895752"
            ]
          },
          "metadata": {},
          "execution_count": 41
        }
      ]
    },
    {
      "cell_type": "markdown",
      "source": [
        "a bank has an average random arrival rate of 3.2 customers every 4 minutes what is theprobability of getting exactly 10 customers during 8 minutes interval."
      ],
      "metadata": {
        "id": "IFIrCFfEX0V1"
      }
    },
    {
      "cell_type": "code",
      "source": [
        "poisson.pmf(10,6.4)"
      ],
      "metadata": {
        "colab": {
          "base_uri": "https://localhost:8080/"
        },
        "id": "1jfGs9noX1Po",
        "outputId": "8cba76a7-381a-41d7-d298-820ba03d331f"
      },
      "execution_count": null,
      "outputs": [
        {
          "output_type": "execute_result",
          "data": {
            "text/plain": [
              "0.052790043854115495"
            ]
          },
          "metadata": {},
          "execution_count": 42
        }
      ]
    },
    {
      "cell_type": "markdown",
      "source": [
        "unifrom distribution"
      ],
      "metadata": {
        "id": "NJSZ6C2SYKt7"
      }
    },
    {
      "cell_type": "markdown",
      "source": [
        "suppose the amount of time it takes you see that theamount of time it takes to assembly a plastic module ranges from 27 to 39 seconds and theassembly time are uniformly distributed describe the distribution what is the probability thata given assembly will take between 30 to 35 ?"
      ],
      "metadata": {
        "id": "jG0jJwSfYOFQ"
      }
    },
    {
      "cell_type": "code",
      "source": [
        "U = np.arange(27,40,1)\n",
        "U\n"
      ],
      "metadata": {
        "colab": {
          "base_uri": "https://localhost:8080/"
        },
        "id": "D-1EtLBbYDXx",
        "outputId": "f983d64b-8f53-4cd3-b734-8cf187f1dc5c"
      },
      "execution_count": null,
      "outputs": [
        {
          "output_type": "execute_result",
          "data": {
            "text/plain": [
              "array([27, 28, 29, 30, 31, 32, 33, 34, 35, 36, 37, 38, 39])"
            ]
          },
          "metadata": {},
          "execution_count": 43
        }
      ]
    },
    {
      "cell_type": "code",
      "source": [
        "from scipy.stats import uniform \n",
        "uniform.mean(loc=27, scale=12)"
      ],
      "metadata": {
        "colab": {
          "base_uri": "https://localhost:8080/"
        },
        "id": "AMVqlv_lJplD",
        "outputId": "1ae72c82-cb8f-46f1-aa01-c3b3c1d27d3d"
      },
      "execution_count": null,
      "outputs": [
        {
          "output_type": "execute_result",
          "data": {
            "text/plain": [
              "33.0"
            ]
          },
          "metadata": {},
          "execution_count": 44
        }
      ]
    },
    {
      "cell_type": "code",
      "source": [
        "uniform.cdf(np.arange(30,36,1),loc=27, scale= 12)\n"
      ],
      "metadata": {
        "colab": {
          "base_uri": "https://localhost:8080/"
        },
        "id": "sRwzZgtEKDbU",
        "outputId": "09f55871-7de9-42b3-e420-7fe3a56bf3f4"
      },
      "execution_count": null,
      "outputs": [
        {
          "output_type": "execute_result",
          "data": {
            "text/plain": [
              "array([0.25      , 0.33333333, 0.41666667, 0.5       , 0.58333333,\n",
              "       0.66666667])"
            ]
          },
          "metadata": {},
          "execution_count": 45
        }
      ]
    },
    {
      "cell_type": "code",
      "source": [
        "prob= 0.6666667- 0.25\n",
        "prob"
      ],
      "metadata": {
        "colab": {
          "base_uri": "https://localhost:8080/"
        },
        "id": "y5nynBXoKhgC",
        "outputId": "723706ef-d572-4230-ce70-81572f3bbf9a"
      },
      "execution_count": null,
      "outputs": [
        {
          "output_type": "execute_result",
          "data": {
            "text/plain": [
              "0.41666669999999995"
            ]
          },
          "metadata": {},
          "execution_count": 46
        }
      ]
    },
    {
      "cell_type": "markdown",
      "source": [
        " according to the National Association of Insurance Commissionersthe average annual cost of automobile insurance in the United States in a recent year was691 dollar.Suppose the automobile insurance cost are uniformly distributed in the United Stateswith an average of, from $200 to 1182 dollar what is the standard deviation of this uniformdistribution"
      ],
      "metadata": {
        "id": "uqeA7wkRLfMh"
      }
    },
    {
      "cell_type": "code",
      "source": [
        "uniform.mean(loc=200, scale= 982) #scale =1182-200= 982"
      ],
      "metadata": {
        "colab": {
          "base_uri": "https://localhost:8080/"
        },
        "id": "V4e4qP-rLgtr",
        "outputId": "585a501c-b664-4dfb-fb9d-f36acbbdeb76"
      },
      "execution_count": null,
      "outputs": [
        {
          "output_type": "execute_result",
          "data": {
            "text/plain": [
              "691.0"
            ]
          },
          "metadata": {},
          "execution_count": 47
        }
      ]
    },
    {
      "cell_type": "code",
      "source": [
        "uniform.std(loc=200, scale= 982)"
      ],
      "metadata": {
        "colab": {
          "base_uri": "https://localhost:8080/"
        },
        "id": "gXyoot9GMYHZ",
        "outputId": "b622fa20-4b0b-47ad-a9a6-7f46c4ad611f"
      },
      "execution_count": null,
      "outputs": [
        {
          "output_type": "execute_result",
          "data": {
            "text/plain": [
              "283.4789821721062"
            ]
          },
          "metadata": {},
          "execution_count": 48
        }
      ]
    },
    {
      "cell_type": "markdown",
      "source": [
        "normal distribution"
      ],
      "metadata": {
        "id": "QLyP-uLZMl4R"
      }
    },
    {
      "cell_type": "code",
      "source": [
        "from scipy.stats import norm \n",
        "val,m,s=68,65.5,2.5\n",
        "print(norm.cdf(val,m,s))"
      ],
      "metadata": {
        "colab": {
          "base_uri": "https://localhost:8080/"
        },
        "id": "NRhjaZIIMpxt",
        "outputId": "5c9b9cff-3c01-49ca-cc0c-5ef7de4b19d9"
      },
      "execution_count": null,
      "outputs": [
        {
          "output_type": "stream",
          "name": "stdout",
          "text": [
            "0.8413447460685429\n"
          ]
        }
      ]
    },
    {
      "cell_type": "markdown",
      "source": [
        "CDF(x>val)"
      ],
      "metadata": {
        "id": "a77HjCuOYYT5"
      }
    },
    {
      "cell_type": "code",
      "source": [
        "print(1-norm.cdf(val,m,s))"
      ],
      "metadata": {
        "colab": {
          "base_uri": "https://localhost:8080/"
        },
        "id": "njFkjgDmb6y2",
        "outputId": "60c0bf88-df87-434c-b88c-92d9852d7b97"
      },
      "execution_count": null,
      "outputs": [
        {
          "output_type": "stream",
          "name": "stdout",
          "text": [
            "0.15865525393145707\n"
          ]
        }
      ]
    },
    {
      "cell_type": "markdown",
      "source": [
        "cdf(val1<x<val2)"
      ],
      "metadata": {
        "id": "XQZlXFXGYo5t"
      }
    },
    {
      "cell_type": "code",
      "source": [
        "print(norm.cdf(val,m,s)-(norm.cdf(63,m,s)))"
      ],
      "metadata": {
        "colab": {
          "base_uri": "https://localhost:8080/"
        },
        "id": "zz11antpb7R6",
        "outputId": "c58552a2-75a6-4e47-ceab-b9b1fff4d248"
      },
      "execution_count": null,
      "outputs": [
        {
          "output_type": "stream",
          "name": "stdout",
          "text": [
            "0.6826894921370859\n"
          ]
        }
      ]
    },
    {
      "cell_type": "markdown",
      "source": [
        "what is the probability of obtaining a score greater than 700 on your GMAT testthat has mean 494 and standard deviation of 100 assume GMAT score are normally distributed."
      ],
      "metadata": {
        "id": "FlNzWuojbx_a"
      }
    },
    {
      "cell_type": "code",
      "source": [
        "print(1-norm.cdf(700,494,100))"
      ],
      "metadata": {
        "colab": {
          "base_uri": "https://localhost:8080/"
        },
        "id": "Ud4Fwtg3b5XU",
        "outputId": "d1888ef8-02ab-4ba0-fdee-55cfb8908dbd"
      },
      "execution_count": null,
      "outputs": [
        {
          "output_type": "stream",
          "name": "stdout",
          "text": [
            "0.019699270409376912\n"
          ]
        }
      ]
    },
    {
      "cell_type": "markdown",
      "source": [
        "for the same GMAT examination, what is the probability that randomly drawing his score the 550 or less?"
      ],
      "metadata": {
        "id": "OepodrXOaSZi"
      }
    },
    {
      "cell_type": "code",
      "source": [
        "print(norm.cdf(550,494,100))"
      ],
      "metadata": {
        "colab": {
          "base_uri": "https://localhost:8080/"
        },
        "id": "jd4nEtuNaA30",
        "outputId": "954f193e-1253-4616-8901-e7cf3eb17f5d"
      },
      "execution_count": null,
      "outputs": [
        {
          "output_type": "stream",
          "name": "stdout",
          "text": [
            "0.712260281150973\n"
          ]
        }
      ]
    },
    {
      "cell_type": "markdown",
      "source": [
        "What is the probability of randomly obtaining a score between 300 to 600 the GMAT examination"
      ],
      "metadata": {
        "id": "iK8SB2VBb5yE"
      }
    },
    {
      "cell_type": "code",
      "source": [
        "print(norm.cdf(600,494,100)-norm.cdf(300,494,100))"
      ],
      "metadata": {
        "colab": {
          "base_uri": "https://localhost:8080/"
        },
        "id": "MTgtCbWRb6eX",
        "outputId": "1cad09b6-dc9b-4511-84b6-68ee6340e665"
      },
      "execution_count": null,
      "outputs": [
        {
          "output_type": "stream",
          "name": "stdout",
          "text": [
            "0.8292378553956377\n"
          ]
        }
      ]
    },
    {
      "cell_type": "markdown",
      "source": [
        "What is the probability of getting a score between 350 and 450 on the same GMAT exam"
      ],
      "metadata": {
        "id": "Y_MPgN3zc861"
      }
    },
    {
      "cell_type": "code",
      "source": [
        "print(norm.cdf(450,494,100)-norm.cdf(350,494,100))"
      ],
      "metadata": {
        "colab": {
          "base_uri": "https://localhost:8080/"
        },
        "id": "n3PH2Q4qdFjU",
        "outputId": "ca315da5-00d9-420b-b501-7e5982350b6f"
      },
      "execution_count": null,
      "outputs": [
        {
          "output_type": "stream",
          "name": "stdout",
          "text": [
            "0.2550348541262666\n"
          ]
        }
      ]
    },
    {
      "cell_type": "code",
      "source": [
        "norm.ppf(0.95)"
      ],
      "metadata": {
        "colab": {
          "base_uri": "https://localhost:8080/"
        },
        "id": "fSXPZNyTdPrd",
        "outputId": "312fcd10-2a1d-4ef2-b682-049624e18694"
      },
      "execution_count": null,
      "outputs": [
        {
          "output_type": "execute_result",
          "data": {
            "text/plain": [
              "1.6448536269514722"
            ]
          },
          "metadata": {},
          "execution_count": 56
        }
      ]
    },
    {
      "cell_type": "markdown",
      "source": [
        "hypergeometric distributiion example"
      ],
      "metadata": {
        "id": "Xyd8rMKDejWD"
      }
    },
    {
      "cell_type": "markdown",
      "source": [
        " suppose 18 major computer companies operate in the United States andthat 12 are located in California's Silicon Valley.If 3 computer companies are selected randomly from their entire list what is the probabilitythat one or more of the selected companies are located in the Silicon Valley."
      ],
      "metadata": {
        "id": "7H1Fm9IteEdO"
      }
    },
    {
      "cell_type": "code",
      "source": [
        " from scipy.stats import hypergeom\n",
        " pval=hypergeom.sf(0,18,3,12)\n",
        " pval"
      ],
      "metadata": {
        "colab": {
          "base_uri": "https://localhost:8080/"
        },
        "id": "gP7SbNe5feYS",
        "outputId": "46178b93-665f-4264-96cf-840d62d16dc4"
      },
      "execution_count": null,
      "outputs": [
        {
          "output_type": "execute_result",
          "data": {
            "text/plain": [
              "0.9754901960784306"
            ]
          },
          "metadata": {},
          "execution_count": 57
        }
      ]
    },
    {
      "cell_type": "markdown",
      "source": [
        " a western city has 18 police officers eligible for promotion11 of 18 are Hispanic, suppose only 5 of the police officers are chosen for promotion ifthe officer chosen for promotion had been selected by chance alone what is the probabilitythat one or fewer of the 5 promoted officers would have been his Hispanic."
      ],
      "metadata": {
        "id": "VPqibfD3firA"
      }
    },
    {
      "cell_type": "code",
      "source": [
        "pval=hypergeom.cdf(1,18,5,11)\n",
        "pval"
      ],
      "metadata": {
        "colab": {
          "base_uri": "https://localhost:8080/"
        },
        "id": "QFwlYwOXfrAI",
        "outputId": "88bcf527-a83d-49ed-bf0a-3ef89ff4b868"
      },
      "execution_count": null,
      "outputs": [
        {
          "output_type": "execute_result",
          "data": {
            "text/plain": [
              "0.04738562091503275"
            ]
          },
          "metadata": {},
          "execution_count": 59
        }
      ]
    },
    {
      "cell_type": "markdown",
      "source": [
        "exponetial distribution example"
      ],
      "metadata": {
        "id": "c5kbmRkEhF4b"
      }
    },
    {
      "cell_type": "markdown",
      "source": [
        "A manufacturing firm has involved in statistical quality control for several years.As part of the production process parts are randomly selected and tested from the recordsof these tests it has been established that the defective part occur in a pattern thatis a Poisson distributed on the average of 1.38 defects every 20 minutes during productionrun.Use the information to determine the probability of less than 15 minutes will elapse betweenany 2 defects."
      ],
      "metadata": {
        "id": "hRNVtFlBge9P"
      }
    },
    {
      "cell_type": "code",
      "source": [
        "mul=1/1.38\n",
        "mul"
      ],
      "metadata": {
        "colab": {
          "base_uri": "https://localhost:8080/"
        },
        "id": "TWJ75zophMZC",
        "outputId": "83d20bf2-0f3b-4bb2-cf77-721c1fd966b2"
      },
      "execution_count": null,
      "outputs": [
        {
          "output_type": "execute_result",
          "data": {
            "text/plain": [
              "0.7246376811594204"
            ]
          },
          "metadata": {},
          "execution_count": 61
        }
      ]
    }
  ]
}